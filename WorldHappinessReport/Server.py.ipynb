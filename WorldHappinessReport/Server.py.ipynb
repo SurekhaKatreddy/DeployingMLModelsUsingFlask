{
 "cells": [
  {
   "cell_type": "code",
   "execution_count": 1,
   "id": "fb7bdb86",
   "metadata": {},
   "outputs": [
    {
     "data": {
      "text/plain": [
       "{'Country': ['Sweden', 'Slovakia'],\n",
       " 'Region': ['Western Europe', 'Central and Eastern Europe'],\n",
       " 'Standard Error': [0.03157, 0.04267],\n",
       " 'Economy (GDP per Capita)': [1.33171, 1.16891],\n",
       " 'Family': [1.33171, 1.16891],\n",
       " 'Health (Life Expectancy)': [1.28907, 1.26999],\n",
       " 'Freedom': [0.91087, 0.78902],\n",
       " 'Trust (Government Corruption)': [0.43844, 0.03431],\n",
       " 'Generosity': [0.36262, 0.36262],\n",
       " 'Dystopia Residual': [2.37119, 2.24639]}"
      ]
     },
     "execution_count": 1,
     "metadata": {},
     "output_type": "execute_result"
    }
   ],
   "source": [
    "#build new data\n",
    "new_data = {'Country': ['Sweden','Slovakia'],\n",
    "                   'Region': ['Western Europe','Central and Eastern Europe'],\n",
    "                   'Standard Error': [0.03157,0.04267],\n",
    "                    'Economy (GDP per Capita)': [1.33171, 1.16891],      \n",
    "                    'Family':[1.33171, 1.16891],\n",
    "                    'Health (Life Expectancy)': [1.28907,1.26999],\n",
    "                    'Freedom': [0.91087,0.78902],\n",
    "                    'Trust (Government Corruption)':[0.43844,0.03431],\n",
    "                    'Generosity':[0.36262,0.36262],\n",
    "                    'Dystopia Residual': [2.37119,2.24639]}\n",
    "new_data"
   ]
  },
  {
   "cell_type": "code",
   "execution_count": 2,
   "id": "f0bc5c9f",
   "metadata": {},
   "outputs": [
    {
     "name": "stdout",
     "output_type": "stream",
     "text": [
      " * Serving Flask app '__main__' (lazy loading)\n",
      " * Environment: production\n",
      "\u001b[31m   WARNING: This is a development server. Do not use it in a production deployment.\u001b[0m\n",
      "\u001b[2m   Use a production WSGI server instead.\u001b[0m\n",
      " * Debug mode: on\n"
     ]
    },
    {
     "name": "stderr",
     "output_type": "stream",
     "text": [
      " * Running on http://127.0.0.1:5000/ (Press CTRL+C to quit)\n",
      " * Restarting with stat\n",
      "Traceback (most recent call last):\n",
      "  File \"/Users/surekha/opt/anaconda3/envs/DAAN570/lib/python3.7/site-packages/ipykernel_launcher.py\", line 16, in <module>\n",
      "    app.launch_new_instance()\n",
      "  File \"/Users/surekha/opt/anaconda3/envs/DAAN570/lib/python3.7/site-packages/traitlets/config/application.py\", line 845, in launch_instance\n",
      "    app.initialize(argv)\n",
      "  File \"/Users/surekha/opt/anaconda3/envs/DAAN570/lib/python3.7/site-packages/traitlets/config/application.py\", line 88, in inner\n",
      "    return method(app, *args, **kwargs)\n",
      "  File \"/Users/surekha/opt/anaconda3/envs/DAAN570/lib/python3.7/site-packages/ipykernel/kernelapp.py\", line 632, in initialize\n",
      "    self.init_sockets()\n",
      "  File \"/Users/surekha/opt/anaconda3/envs/DAAN570/lib/python3.7/site-packages/ipykernel/kernelapp.py\", line 282, in init_sockets\n",
      "    self.shell_port = self._bind_socket(self.shell_socket, self.shell_port)\n",
      "  File \"/Users/surekha/opt/anaconda3/envs/DAAN570/lib/python3.7/site-packages/ipykernel/kernelapp.py\", line 229, in _bind_socket\n",
      "    return self._try_bind_socket(s, port)\n",
      "  File \"/Users/surekha/opt/anaconda3/envs/DAAN570/lib/python3.7/site-packages/ipykernel/kernelapp.py\", line 205, in _try_bind_socket\n",
      "    s.bind(\"tcp://%s:%i\" % (self.ip, port))\n",
      "  File \"/Users/surekha/opt/anaconda3/envs/DAAN570/lib/python3.7/site-packages/zmq/sugar/socket.py\", line 214, in bind\n",
      "    super().bind(addr)\n",
      "  File \"zmq/backend/cython/socket.pyx\", line 540, in zmq.backend.cython.socket.Socket.bind\n",
      "  File \"zmq/backend/cython/checkrc.pxd\", line 28, in zmq.backend.cython.checkrc._check_rc\n",
      "zmq.error.ZMQError: Address already in use\n"
     ]
    },
    {
     "ename": "SystemExit",
     "evalue": "1",
     "output_type": "error",
     "traceback": [
      "An exception has occurred, use %tb to see the full traceback.\n",
      "\u001b[0;31mSystemExit\u001b[0m\u001b[0;31m:\u001b[0m 1\n"
     ]
    },
    {
     "name": "stderr",
     "output_type": "stream",
     "text": [
      "/Users/surekha/opt/anaconda3/envs/DAAN570/lib/python3.7/site-packages/IPython/core/interactiveshell.py:3465: UserWarning: To exit: use 'exit', 'quit', or Ctrl-D.\n",
      "  warn(\"To exit: use 'exit', 'quit', or Ctrl-D.\", stacklevel=1)\n"
     ]
    }
   ],
   "source": [
    "# Import libraries\n",
    "import numpy as np\n",
    "from flask import Flask, request, jsonify\n",
    "import pickle\n",
    "app = Flask(__name__)\n",
    "# Load the model\n",
    "model = pickle.load(open('model.pkl','rb'))\n",
    "@app.route('/api',methods=['POST'])\n",
    "def predict():\n",
    "    # Get the data from the POST request.\n",
    "    data = request.get_json(force=True)\n",
    "    # Make prediction using model loaded from disk as per the data.\n",
    "    prediction = model.predict(new_data)\n",
    "    #[[np.array(data['field'])]]\n",
    "    # Take the first value of prediction\n",
    "    output = prediction[0]\n",
    "    return jsonify(output)\n",
    "\n",
    "if __name__ == '__main__':\n",
    "    app.run(port=5000, debug=True)"
   ]
  }
 ],
 "metadata": {
  "kernelspec": {
   "display_name": "Python 3 (ipykernel)",
   "language": "python",
   "name": "python3"
  },
  "language_info": {
   "codemirror_mode": {
    "name": "ipython",
    "version": 3
   },
   "file_extension": ".py",
   "mimetype": "text/x-python",
   "name": "python",
   "nbconvert_exporter": "python",
   "pygments_lexer": "ipython3",
   "version": "3.7.11"
  }
 },
 "nbformat": 4,
 "nbformat_minor": 5
}

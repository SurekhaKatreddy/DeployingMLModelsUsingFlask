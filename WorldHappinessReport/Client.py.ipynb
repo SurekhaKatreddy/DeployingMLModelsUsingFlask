{
 "cells": [
  {
   "cell_type": "code",
   "execution_count": 7,
   "id": "033e486c",
   "metadata": {},
   "outputs": [
    {
     "data": {
      "text/plain": [
       "{'Country': ['Sweden', 'Slovakia'],\n",
       " 'Region': ['Western Europe', 'Central and Eastern Europe'],\n",
       " 'Standard Error': [0.03157, 0.04267],\n",
       " 'Economy (GDP per Capita)': [1.33171, 1.16891],\n",
       " 'Family': [1.33171, 1.16891],\n",
       " 'Health (Life Expectancy)': [1.28907, 1.26999],\n",
       " 'Freedom': [0.91087, 0.78902],\n",
       " 'Trust (Government Corruption)': [0.43844, 0.03431],\n",
       " 'Generosity': [0.36262, 0.36262],\n",
       " 'Dystopia Residual': [2.37119, 2.24639]}"
      ]
     },
     "execution_count": 7,
     "metadata": {},
     "output_type": "execute_result"
    }
   ],
   "source": [
    "#import pandas as pd\n",
    "import requests\n",
    "\n",
    "#build new data\n",
    "new_data = {'Country': ['Sweden','Slovakia'],\n",
    "                   'Region': ['Western Europe','Central and Eastern Europe'],\n",
    "                   'Standard Error': [0.03157,0.04267],\n",
    "                    'Economy (GDP per Capita)': [1.33171, 1.16891],      \n",
    "                    'Family':[1.33171, 1.16891],\n",
    "                    'Health (Life Expectancy)': [1.28907,1.26999],\n",
    "                    'Freedom': [0.91087,0.78902],\n",
    "                    'Trust (Government Corruption)':[0.43844,0.03431],\n",
    "                    'Generosity':[0.36262,0.36262],\n",
    "                    'Dystopia Residual': [2.37119,2.24639]}\n",
    "new_data"
   ]
  },
  {
   "cell_type": "code",
   "execution_count": null,
   "id": "22e3385e",
   "metadata": {},
   "outputs": [],
   "source": [
    "url = 'http://localhost:5000/api'\n",
    "r = requests.post(url,json=new_data)\n",
    "print(r.json())"
   ]
  }
 ],
 "metadata": {
  "kernelspec": {
   "display_name": "Python 3 (ipykernel)",
   "language": "python",
   "name": "python3"
  },
  "language_info": {
   "codemirror_mode": {
    "name": "ipython",
    "version": 3
   },
   "file_extension": ".py",
   "mimetype": "text/x-python",
   "name": "python",
   "nbconvert_exporter": "python",
   "pygments_lexer": "ipython3",
   "version": "3.7.11"
  }
 },
 "nbformat": 4,
 "nbformat_minor": 5
}
